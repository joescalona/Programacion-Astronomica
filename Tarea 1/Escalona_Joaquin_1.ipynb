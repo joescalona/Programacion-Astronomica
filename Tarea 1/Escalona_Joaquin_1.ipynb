{
 "cells": [
  {
   "cell_type": "markdown",
   "metadata": {
    "slideshow": {
     "slide_type": "fragment"
    }
   },
   "source": [
    "Hola, pueden encontrar este documento en su version de notebook, además de todos los programas aquí copiados para que puedan ejectutarlo y evaluarlo con mayor facilidad pinchando aquí: [GitHub](https://github.com/joescalona/Programacion-Astronomica) :) "
   ]
  },
  {
   "cell_type": "markdown",
   "metadata": {
    "slideshow": {
     "slide_type": "skip"
    }
   },
   "source": [
    "# Ejercicio 1: \n",
    "Which of the following is a Boolean expression? Select all that apply (marcadas en negrita las que considero correctas):\n",
    "\n",
    "&nbsp;\n",
    "**(A) True**\n",
    "\n",
    "&nbsp;\n",
    "**(B )3==4**\n",
    "\n",
    "&nbsp;\n",
    "(C) 3+4\n",
    "\n",
    "&nbsp;\n",
    "**(D) 3+4 == 7**\n",
    "\n",
    "---\n"
   ]
  },
  {
   "cell_type": "markdown",
   "metadata": {},
   "source": [
    "# Ejercicio 2: \n",
    "Boolean  operators:  Returned  values in  logical  test,  the  returned  value  is  the  one  that  has  been  evaluated  last.  Consider  these  examples:"
   ]
  },
  {
   "cell_type": "code",
   "execution_count": 1,
   "metadata": {},
   "outputs": [
    {
     "name": "stdout",
     "output_type": "stream",
     "text": [
      "Ok\n"
     ]
    }
   ],
   "source": [
    "print (True and 'Ok' or 'Ko')"
   ]
  },
  {
   "cell_type": "code",
   "execution_count": 2,
   "metadata": {},
   "outputs": [
    {
     "name": "stdout",
     "output_type": "stream",
     "text": [
      "Ko\n"
     ]
    }
   ],
   "source": [
    "print(False and 'Ok' or 'Ko')"
   ]
  },
  {
   "cell_type": "markdown",
   "metadata": {},
   "source": [
    "Explanation:in  the  first  statement,  True  and  \"OK\"  is  True.  There  is  not  need  to  test  or  \"KO\",  so  this  is  the  end  of  the  logical  test,  and  the  returned  value  is  the  one  that  has  been  evaluated  last  in  True  and  \"OK\".  In  the  second  statement,  False  and  \"OK\"  is  False.  So,  or  \"KO\"  must  be  evaluated.  So,  the  last  evaluated  expression  is  \"KO\",  hence  the  returned  value.    "
   ]
  },
  {
   "cell_type": "markdown",
   "metadata": {},
   "source": [
    "Evalúen  las  siguientes  expresiones,  y  expliquen  el  resultado: "
   ]
  },
  {
   "cell_type": "code",
   "execution_count": 3,
   "metadata": {},
   "outputs": [
    {
     "data": {
      "text/plain": [
       "True"
      ]
     },
     "execution_count": 3,
     "metadata": {},
     "output_type": "execute_result"
    }
   ],
   "source": [
    "'a'  ==  ('a'  or  'b')"
   ]
  },
  {
   "cell_type": "markdown",
   "metadata": {},
   "source": [
    "Es ***True*** debido a que el carácter \"a\" fue el ultimo valor retornado y entonces es cierto que a = a "
   ]
  },
  {
   "cell_type": "code",
   "execution_count": 4,
   "metadata": {},
   "outputs": [
    {
     "data": {
      "text/plain": [
       "False"
      ]
     },
     "execution_count": 4,
     "metadata": {},
     "output_type": "execute_result"
    }
   ],
   "source": [
    "'b'  ==  ('a'  or  'b')"
   ]
  },
  {
   "cell_type": "markdown",
   "metadata": {},
   "source": [
    "Es ***Falso*** debido a que \"a\" fue el ultimo valor retornado y es falso que 'b'='a'"
   ]
  },
  {
   "cell_type": "code",
   "execution_count": 5,
   "metadata": {},
   "outputs": [
    {
     "data": {
      "text/plain": [
       "False"
      ]
     },
     "execution_count": 5,
     "metadata": {},
     "output_type": "execute_result"
    }
   ],
   "source": [
    "'a'  ==  ('a'  and  'b')"
   ]
  },
  {
   "cell_type": "markdown",
   "metadata": {},
   "source": [
    "Es ***Falso*** debido a que \"b\" fue el ultimo valor retornado y es falso que 'a'='b'"
   ]
  },
  {
   "cell_type": "code",
   "execution_count": 6,
   "metadata": {},
   "outputs": [
    {
     "data": {
      "text/plain": [
       "True"
      ]
     },
     "execution_count": 6,
     "metadata": {},
     "output_type": "execute_result"
    }
   ],
   "source": [
    "'b'  ==  ('a'  and  'b')"
   ]
  },
  {
   "cell_type": "markdown",
   "metadata": {},
   "source": [
    "Es ***True*** debido a que \"b\" fue el ultimo valor retornado y es cierto que 'b'='b'\n",
    "\n",
    "---"
   ]
  },
  {
   "cell_type": "markdown",
   "metadata": {},
   "source": [
    "# Ejercicio 3: \n",
    "Ordenar  tres  números  enteros  en  orden  ascendiente.  Escriban  un  programa  que  solicite  un  input  de  tres  números  enteros.  Convierta  el  input  a  tipo  int.  Use  condiciones  con  “if”  para  determinar  el  orden  ascendiente  de  los  números,  y  escríbalo  a  la  pantalla  (standard  output).  "
   ]
  },
  {
   "cell_type": "markdown",
   "metadata": {},
   "source": [
    "```\n",
    "#NUMEROS DE MENOR A MAYOR\n",
    "#PROGRAMA MAS LARGO YA QUE CONSIDERE DIVERSAS OPCIONES INGRESADAS POR EL USUARIO\n",
    "#DISCULPAR POR LA ABUNDANCIA DE CODIGO\n",
    "\n",
    "print('------ NUMEROS DE MENOR A MAYOR (DISTINTOS) ------'+'\\n')\n",
    "\t\t#SOLICITAR NUMERO Y VERIFICAR QUE SEA ENTERO\n",
    "a=input('Ingresa un numero = ')\n",
    "\n",
    "\t\t#SI UN FLOTANTE, TAL COMO 2.0 ES INGRESADO, CONSIDERARLO COMO ENTERO\n",
    "if float(a)==int(a):\n",
    "\ta=int(a) \n",
    "\n",
    "elif type(a)!=int:\n",
    "\tprint('\\n'+'El numero debe ser entero!')\n",
    "\t\t#COMO a YA TIENE UN TIPO, QUE ES DISTINTO AL ENTERO, SE LE ASIGNA EL VALOR NULO A a\n",
    "\t\t#LO APRENDI AQUI https://stackoverflow.com/questions/19473185/what-is-a-none-value\n",
    "\ta=None\n",
    "\t\t#INSISTIR HASTA QUE SEA ENTERO\n",
    "\twhile type(a)!=int:\n",
    "\t\ta=input('Intentalo nuevamente :) , ingresa el numero = ')\n",
    "\t\tif float(a)==int(a):\n",
    "\t\t\ta=int(a) \n",
    "\n",
    "b=input('Ingresa otro numero = ')\n",
    "\t\t#SI EL VALOR DE b YA FUE INGRESADO\n",
    "if b==a:\n",
    "\t\t#INSISTIR PARA QUE SEA DISTINTO\n",
    "\twhile b==a:\n",
    "\t\tb=None\n",
    "\t\tb=input('Ya ingresaste ese valor anteriormente, prueba otro = ') \n",
    "\n",
    "if float(b)==int(b):\n",
    "\tb=int(b) \n",
    "\n",
    "elif type(b)!=int:\n",
    "\tprint('El numero debe ser entero!')\n",
    "\tb=None\n",
    "\twhile type(b)!=int:\n",
    "\t\tb=input('Intentalo nuevamente :) , ingresa el numero = ')\n",
    "\t\tif float(b)==int(b):\n",
    "\t\t\tb=int(b) \n",
    "\n",
    "c=input('Ingresa el ultimo numero = ')\n",
    "if c==a or c==b:\n",
    "\twhile c==a or c==b:\n",
    "\t\tc=None\n",
    "\t\tc=input('Ya ingresaste ese valor anteriormente, prueba otro = ')\n",
    "\n",
    "if float(c)==int(c):\n",
    "\tc=int(c) \n",
    "\n",
    "elif type(c)!=int:\n",
    "\tprint('El numero debe ser entero!')\n",
    "\tc=None\n",
    "\twhile type(c)!=int:\n",
    "\t\tc=input('Intentalo nuevamente :) , ingresa el numero = ')\n",
    "\t\tif float(c)==int(c):\n",
    "\t\t\tc=int(c) \n",
    "else:\n",
    "\tc=int(c)\n",
    "\n",
    "\t\t#POSIBLES COMBINACIONES DE LOS NUMEROS INGRESADOS (DISTINTOS) (3!)\n",
    "x='Los numeros en orden ascendiente son = '\n",
    "while a<b and a<c:\n",
    "\tif b<c:\n",
    "\t\tprint(x + str(a) +','+str(b)+','+str(c))\n",
    "\t\tbreak\n",
    "\tif c<b:\n",
    "\t\tprint(x + str(a) +','+str(c)+','+str(b))\n",
    "\t\tbreak\n",
    "\t\t\n",
    "while b<a and b<c:\n",
    "\tif a<c:\n",
    "\t\tprint(x + str(b) +','+str(a)+','+str(c))\n",
    "\t\tbreak\n",
    "\tif c<a:\n",
    "\t\tprint(x + str(b) +','+str(c)+','+str(a))\n",
    "\t\tbreak\n",
    "while c<a and c<b:\n",
    "\tif a<b:\n",
    "\t\tprint(x + str(c) +','+str(a)+','+str(b))\n",
    "\t\tbreak\n",
    "\tif b<a:\n",
    "\t\tprint(x + str(c) +','+str(b)+','+str(a))\n",
    "\t\tbreak\n",
    "```\n",
    "--- "
   ]
  },
  {
   "cell_type": "markdown",
   "metadata": {},
   "source": [
    "# Ejercicio  4:  \n",
    "\n",
    "Calcular  el  factorial  de  un  numero  entero.    Escriban  un  programa  que  solicite  input  de  un  número  entero.  Convierten  el  numero  en  tipo  int.  Use  el  concepto  de  iteración  (“loops”)  para  calcular  el  factorial  de  este  número. "
   ]
  },
  {
   "cell_type": "markdown",
   "metadata": {},
   "source": [
    "```\n",
    "#CALCULAR FACTORIAL\n",
    "\n",
    "print('------ FACTORIAL DE UN NUMERO ------')\n",
    "\t\t#MULT ES 1, PARA QUE COMIENCE EL CICLO \n",
    "mult=1\n",
    "\t\t#SOLICITAR UN NUMERO (ENTERO)\n",
    "n=input('Ingresa un numero = ')\n",
    "\t\t#MIENTRAS QUE EL NUMERO INGRESADO NO SEA ENTERO\n",
    "while type(n)!= int:\n",
    "\tprint('La funcion factorial solo admite numeros enteros')\n",
    "\tn=input('Ingresa un numero :) = ')\n",
    "\t\t#PERO SI EL NUMERO ES ENTERO\n",
    "if type(n)==int:\n",
    "\t\t#HACER UN CICLO DONDE SE MULTIPLICAN TODOS LOS NUMEROS ENTEROS ANTERIORES A EL \n",
    "        #(INCLUYENDOLO)\n",
    "\tfor i in range(1,n+1):\n",
    "\t\tmult=mult*i\n",
    "print ('El factorial de '+str(n)+' es '+str(mult))\n",
    "```\n",
    "--- "
   ]
  },
  {
   "cell_type": "markdown",
   "metadata": {},
   "source": [
    "# Ejercicio  5:    \n",
    "The  formula  for  computing  the  final  amount  if  one  is  earning  compound  interest  is  given  on  Wikipedia  as"
   ]
  },
  {
   "cell_type": "markdown",
   "metadata": {},
   "source": [
    "$$ A= P\\left(1+\\frac{r}{n}\\right)^{nt}$$"
   ]
  },
  {
   "cell_type": "markdown",
   "metadata": {},
   "source": [
    "Where,\n",
    "\n",
    "- P = principal amount (inicial investment)\n",
    "- r = annual nominal interest rate (as a decimal)\n",
    "- n = number of times the interest is compuned per year\n",
    "- t = number of years"
   ]
  },
  {
   "cell_type": "markdown",
   "metadata": {},
   "source": [
    "Write  a  Python  program  that  assigns  the  principal  amount  of  $10000  to  variable  P,  assign  to  nthe  value  12,  and  assign  to  r  the  interest  rate  of  8%.  Then  have  the  program  prompt  the  user  for  the  number  of  years  t  that  the  money  will  be  compounded  for.  Calculate  and  print  the  final  amount  after  t  years"
   ]
  },
  {
   "cell_type": "markdown",
   "metadata": {},
   "source": [
    "```\n",
    "\t#PROGRAMA INTERES COMPUESTO\n",
    "\n",
    "\t#ASIGNACION DE VARIABLES\n",
    "\n",
    "P = 10000 \n",
    "n = 12\n",
    "r = 0.08 \n",
    "\n",
    "\t#INGRESAR UN TIEMPO Y REGRESAR EL MONTO ACUMULADO\n",
    "\n",
    "t=int(input('Ingresa el numero de ano para el cual sera calculada la cantidad de dinero = '))\n",
    "\n",
    "\t#CALCULAR EL VALOR ACUMULADO (A)\n",
    "A= P * (1 + (r/n))**(n * t)\n",
    "\t\n",
    "\t#IMRPIMIR A \n",
    "print('El valor acumulado en '+str(t)+' anos es = '+str(A))\n",
    "```\n",
    "---"
   ]
  },
  {
   "cell_type": "markdown",
   "metadata": {},
   "source": [
    "# Ejercicio  6:  \n",
    "Escriba  un  programa  que  calcule  la  raíz  de  un  número  x  del  tipo  float  (sea  input  del  usuario)  con  el  siguiente  algoritmo:  \n",
    "\n",
    "- Comience  con  el    “guess”  g  =  1.\n",
    "- Si  abs((g  *  g)/x  −  1.)  <  0.01,  acabe  y  diga  que  g  es  el  resultado.  \n",
    "- Si  no,  crea  un  nuevo  supuesto  con  el  promedio  de  g  y  x/g,  usando  la  asignación  g  =  (g  +  x/g)/2. \n",
    "- Repita  esto  hasta  abs((g  *  g)/x  −  1.)  <  0.01  Use  este  programa  para  calcular  la  raíz  de  5489.  Note:  La  función  abs  entrega  el  valor  absoluto  de  un  número:  abs(-3.2)=3.2  y  abs(5.4)=5.4."
   ]
  },
  {
   "cell_type": "markdown",
   "metadata": {},
   "source": [
    "```\n",
    "\n",
    "#PROGRAMA RAIZ\n",
    "\n",
    "\t#COMENZAR CON g = 1 \n",
    "\n",
    "g = 1\n",
    "\n",
    "x = float(input('Ingresa un valor = '))\n",
    "\n",
    "# IDEA DE FRANCO SEPULVEDA (PARA X<0 y X=0)\n",
    "# EL SE DIO CUENTA QUE EL PROGRAMA NO ES FUNCIONAL PARA X=0\n",
    "if x<0.0:\n",
    "\tprint('El numero debe ser positivo')\n",
    "\n",
    "elif x==0.0:\n",
    "\tprint('La raiz de 0 es 0')\n",
    "\n",
    "\t#MIENTRAS LA EXPRESION SEA MAYOR A 0.01\n",
    "\t#(SI EL MIEMBRO DERECHO ES MAS PEQUENO, MAS PRECISO ES EL RESULTADO)\n",
    "\t#SIN EMBARGO NO SE LA EXPLICACION MATEMATICA DE ESTO\n",
    "\t\n",
    "else:\n",
    "\twhile abs((g*g)/x-1.)>0.01:\n",
    "\t#g IRA ADQUIRIENDO NUEVOS VALORES\n",
    "\t\tg=(g+x/g)/2\n",
    "\n",
    "\t#SI LA EXPRESION ANTERIOR ES MENOR AL VALOR ESTABLECIDO ANTES\n",
    "\t#IMPRIMIR g\n",
    "\tif abs((g*g)/x-1.)<0.01:\n",
    "\t\tprint ('La raiz de '+str(x)+' es '+str(g))\n",
    "\n",
    "\t#PARA X=5489, el programa arroja 74.2356079049\n",
    "```    \n",
    "\n",
    "---\n",
    "    "
   ]
  },
  {
   "cell_type": "markdown",
   "metadata": {},
   "source": [
    "# Ejercicio 7: \n",
    "\n",
    "No fui capaz de anticipar el resultado de todos. Pero el último si ya que se quiere encontrar el resto a una división por 0 y eso en matemáticas es una indeterminación. En Python arroja ZeroDivisionError. "
   ]
  }
 ],
 "metadata": {
  "kernelspec": {
   "display_name": "Python 2",
   "language": "python",
   "name": "python2"
  },
  "language_info": {
   "codemirror_mode": {
    "name": "ipython",
    "version": 2
   },
   "file_extension": ".py",
   "mimetype": "text/x-python",
   "name": "python",
   "nbconvert_exporter": "python",
   "pygments_lexer": "ipython2",
   "version": "2.7.14"
  }
 },
 "nbformat": 4,
 "nbformat_minor": 2
}
