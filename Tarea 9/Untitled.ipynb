{
 "cells": [
  {
   "cell_type": "code",
   "execution_count": 8,
   "metadata": {},
   "outputs": [],
   "source": [
    "f = open('data1.txt','r')"
   ]
  },
  {
   "cell_type": "code",
   "execution_count": 9,
   "metadata": {},
   "outputs": [
    {
     "data": {
      "text/plain": [
       "file"
      ]
     },
     "execution_count": 9,
     "metadata": {},
     "output_type": "execute_result"
    }
   ],
   "source": [
    "type(f)"
   ]
  },
  {
   "cell_type": "code",
   "execution_count": 10,
   "metadata": {},
   "outputs": [
    {
     "data": {
      "text/plain": [
       "'RAJ        DEJ                          Jmag   e_Jmag\\r\\n2000 (deg) 2000 (deg) 2MASS             (mag)  (mag) \\r\\n---------- ---------- ----------------- ------ ------\\r\\n010.684737 +41.269035 00424433+4116085   9.453  0.052\\r\\n010.683469 +41.268585 00424403+4116069   9.321  0.022\\r\\n010.685657 +41.269550 00424455+4116103  10.773  0.069\\r\\n010.686026 +41.269226 00424464+4116092   9.299  0.063\\r\\n010.683465 +41.269676 00424403+4116108  11.507  0.056\\r\\n010.686015 +41.269630 00424464+4116106   9.399  0.045\\r\\n010.685270 +41.267124 00424446+4116016  12.070  0.035'"
      ]
     },
     "execution_count": 10,
     "metadata": {},
     "output_type": "execute_result"
    }
   ],
   "source": [
    "f.read()"
   ]
  },
  {
   "cell_type": "code",
   "execution_count": 13,
   "metadata": {},
   "outputs": [],
   "source": [
    "f = open('data1.txt','r')\n",
    "data = f.read()"
   ]
  },
  {
   "cell_type": "code",
   "execution_count": 14,
   "metadata": {},
   "outputs": [
    {
     "data": {
      "text/plain": [
       "'RAJ        DEJ                          Jmag   e_Jmag\\r\\n2000 (deg) 2000 (deg) 2MASS             (mag)  (mag) \\r\\n---------- ---------- ----------------- ------ ------\\r\\n010.684737 +41.269035 00424433+4116085   9.453  0.052\\r\\n010.683469 +41.268585 00424403+4116069   9.321  0.022\\r\\n010.685657 +41.269550 00424455+4116103  10.773  0.069\\r\\n010.686026 +41.269226 00424464+4116092   9.299  0.063\\r\\n010.683465 +41.269676 00424403+4116108  11.507  0.056\\r\\n010.686015 +41.269630 00424464+4116106   9.399  0.045\\r\\n010.685270 +41.267124 00424446+4116016  12.070  0.035'"
      ]
     },
     "execution_count": 14,
     "metadata": {},
     "output_type": "execute_result"
    }
   ],
   "source": [
    "data "
   ]
  },
  {
   "cell_type": "code",
   "execution_count": 15,
   "metadata": {},
   "outputs": [
    {
     "name": "stdout",
     "output_type": "stream",
     "text": [
      "'RAJ        DEJ                          Jmag   e_Jmag\\r\\n'\n",
      "'2000 (deg) 2000 (deg) 2MASS             (mag)  (mag) \\r\\n'\n",
      "'---------- ---------- ----------------- ------ ------\\r\\n'\n",
      "'010.684737 +41.269035 00424433+4116085   9.453  0.052\\r\\n'\n",
      "'010.683469 +41.268585 00424403+4116069   9.321  0.022\\r\\n'\n",
      "'010.685657 +41.269550 00424455+4116103  10.773  0.069\\r\\n'\n",
      "'010.686026 +41.269226 00424464+4116092   9.299  0.063\\r\\n'\n",
      "'010.683465 +41.269676 00424403+4116108  11.507  0.056\\r\\n'\n",
      "'010.686015 +41.269630 00424464+4116106   9.399  0.045\\r\\n'\n",
      "'010.685270 +41.267124 00424446+4116016  12.070  0.035'\n"
     ]
    }
   ],
   "source": [
    "f = open('data1.txt','r')\n",
    "for line in f: \n",
    "    print(repr(line))"
   ]
  },
  {
   "cell_type": "code",
   "execution_count": 16,
   "metadata": {},
   "outputs": [
    {
     "data": {
      "text/plain": [
       "'010.685270 +41.267124 00424446+4116016  12.070  0.035'"
      ]
     },
     "execution_count": 16,
     "metadata": {},
     "output_type": "execute_result"
    }
   ],
   "source": [
    "line "
   ]
  },
  {
   "cell_type": "code",
   "execution_count": 17,
   "metadata": {},
   "outputs": [],
   "source": [
    "line = line.strip()"
   ]
  },
  {
   "cell_type": "code",
   "execution_count": 18,
   "metadata": {},
   "outputs": [
    {
     "data": {
      "text/plain": [
       "'010.685270 +41.267124 00424446+4116016  12.070  0.035'"
      ]
     },
     "execution_count": 18,
     "metadata": {},
     "output_type": "execute_result"
    }
   ],
   "source": [
    "line"
   ]
  },
  {
   "cell_type": "code",
   "execution_count": 19,
   "metadata": {},
   "outputs": [],
   "source": [
    "columns = line.split()"
   ]
  },
  {
   "cell_type": "code",
   "execution_count": 20,
   "metadata": {},
   "outputs": [
    {
     "data": {
      "text/plain": [
       "['010.685270', '+41.267124', '00424446+4116016', '12.070', '0.035']"
      ]
     },
     "execution_count": 20,
     "metadata": {},
     "output_type": "execute_result"
    }
   ],
   "source": [
    "columns"
   ]
  },
  {
   "cell_type": "code",
   "execution_count": 22,
   "metadata": {},
   "outputs": [],
   "source": [
    "name = columns[2]\n",
    "jmag = columns[3]\n"
   ]
  },
  {
   "cell_type": "code",
   "execution_count": 23,
   "metadata": {
    "scrolled": true
   },
   "outputs": [
    {
     "data": {
      "text/plain": [
       "'00424446+4116016'"
      ]
     },
     "execution_count": 23,
     "metadata": {},
     "output_type": "execute_result"
    }
   ],
   "source": [
    "name"
   ]
  },
  {
   "cell_type": "code",
   "execution_count": 24,
   "metadata": {},
   "outputs": [
    {
     "data": {
      "text/plain": [
       "'12.070'"
      ]
     },
     "execution_count": 24,
     "metadata": {},
     "output_type": "execute_result"
    }
   ],
   "source": [
    "jmag"
   ]
  },
  {
   "cell_type": "code",
   "execution_count": 25,
   "metadata": {},
   "outputs": [
    {
     "data": {
      "text/plain": [
       "12.07"
      ]
     },
     "execution_count": 25,
     "metadata": {},
     "output_type": "execute_result"
    }
   ],
   "source": [
    "jmag = float(columns[3])\n",
    "\n",
    "jmag"
   ]
  },
  {
   "cell_type": "code",
   "execution_count": 26,
   "metadata": {},
   "outputs": [],
   "source": [
    "import numpy as np"
   ]
  },
  {
   "cell_type": "code",
   "execution_count": 38,
   "metadata": {},
   "outputs": [],
   "source": [
    "#Importamos el archivo con los datos de las temperaturas\n",
    "temp = 'munich_temperatures_average_with_bad_data.txt'"
   ]
  },
  {
   "cell_type": "code",
   "execution_count": 39,
   "metadata": {},
   "outputs": [],
   "source": [
    "#Asignamos variables a las columnas del archivo\n",
    "date, temperature = np.loadtxt(temp, unpack=True)"
   ]
  },
  {
   "cell_type": "code",
   "execution_count": 40,
   "metadata": {},
   "outputs": [],
   "source": [
    "#Creamos un filtro para datos menores a 50\n",
    "keep = np.abs(temperature) < 50"
   ]
  },
  {
   "cell_type": "code",
   "execution_count": 41,
   "metadata": {},
   "outputs": [
    {
     "name": "stdout",
     "output_type": "stream",
     "text": [
      "[1995.00274 1995.00548 1995.00821 ... 2013.27926 2013.282   2013.28474] [ 0.944444 -1.61111  -3.55556  ... 10.5556    8.94444  11.1667  ]\n"
     ]
    }
   ],
   "source": [
    "#Aplicamos el filtro a date y a temperature\n",
    "date1 = date[keep]\n",
    "temp1 = temperature[keep]\n",
    "\n",
    "#Imprimimos los valores\n",
    "print date1, temp1 "
   ]
  },
  {
   "cell_type": "code",
   "execution_count": 44,
   "metadata": {},
   "outputs": [
    {
     "name": "stdout",
     "output_type": "stream",
     "text": [
      "[6.91014992e-310 6.91011706e-310 6.91014988e-310 6.91011706e-310\n",
      " 6.91014992e-310]\n"
     ]
    }
   ],
   "source": [
    "print np.empty(5)"
   ]
  },
  {
   "cell_type": "code",
   "execution_count": null,
   "metadata": {},
   "outputs": [],
   "source": []
  }
 ],
 "metadata": {
  "kernelspec": {
   "display_name": "Python [conda env:anaconda2]",
   "language": "python",
   "name": "conda-env-anaconda2-py"
  },
  "language_info": {
   "codemirror_mode": {
    "name": "ipython",
    "version": 2
   },
   "file_extension": ".py",
   "mimetype": "text/x-python",
   "name": "python",
   "nbconvert_exporter": "python",
   "pygments_lexer": "ipython2",
   "version": "2.7.15"
  }
 },
 "nbformat": 4,
 "nbformat_minor": 2
}
