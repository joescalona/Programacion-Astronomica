{
 "cells": [
  {
   "cell_type": "markdown",
   "metadata": {},
   "source": [
    "# Ejercicio 1 \n",
    "\n",
    "Debe escribir un programa que le pida a un usuario adivinar un nombre, pero sólo tienen 3 posibilidades hasta que el programa se cierra. \n",
    "\n",
    "## Solucion\n",
    "\n",
    "[Elegir aleatoriamente](https://es.stackoverflow.com/questions/14454/python-extraer-objeto-al-azar-de-una-lista) --> De aquí saqué la forma para elegir aleatoriamente un elemento de una lista.\n",
    "\n",
    "El programa a continuación elegirá aleatoriamente un elemento de la lista y el usuario debe adivinarlo. Si no lo logra, el programa imprimirá el nombre que ha elegido. "
   ]
  },
  {
   "cell_type": "code",
   "execution_count": null,
   "metadata": {},
   "outputs": [],
   "source": [
    "#IMPORTAR RANDOM PARA ELEGIR UN ELEMENTO AL AZAR\n",
    "import random \n",
    "nombres = ['Amelia','Luis','Jaime','Neil','Constanza','Joaquin','Yuuki']\n",
    "nom_elegido=random.choice(nombres)\n",
    "#IMPRIMIR CONDICIONES DEL JUEGO\n",
    "print('------ ADIVINA EL NOMBRE ------')\n",
    "print('\\n Tendras solo 3 oportunidades')\n",
    "print('Los nombres a elegir son = ')\n",
    "for i in nombres:\n",
    "    print '*',i    \n",
    "#PEDIR UN NOMBRE\n",
    "n=raw_input('\\n Comencemos, elige un nombre = ')\n",
    "#CONTADOR (POSIBILIDADES) = 1\n",
    "count = 1\n",
    "#CICLO CON TOPE = 3\n",
    "while True:\n",
    "#SI EL USUARIO ADIVINA\n",
    "    if n == nom_elegido:\n",
    "        print ('Correcto! has adivinado :)')\n",
    "        break\n",
    "#SINO, SE DESCUENTA UNA POSIBILIDAD (AGREGANDOLE A COUNT)   \n",
    "    else: \n",
    "        count+=1\n",
    "#NONE NECESARIO PARA QUE EL USUARIO VUELVA A INTENTAR\n",
    "        n=None\n",
    "        n=raw_input('\\n Nope, intentalo nuevamente,elige un nombre = ')\n",
    "#SI LLEGA A 3 POSIBILIDADES\n",
    "        if count == 3:\n",
    "            print ('Has ocupado tus 3 opciones')\n",
    "            print 'El nombre era = ',nom_elegido\n",
    "            break "
   ]
  },
  {
   "cell_type": "markdown",
   "metadata": {},
   "source": [
    "# Ejercicio 2"
   ]
  },
  {
   "cell_type": "markdown",
   "metadata": {},
   "source": [
    "Arreglen el código adjunto para que haga lo esperado: solo deje “pasar” a personal con uno de los tres nombres especificados. Deben usar como mucho solo una instancia de “==“."
   ]
  },
  {
   "cell_type": "markdown",
   "metadata": {},
   "source": [
    "Codigo adjunto: \n",
    "```\n",
    "import sys\n",
    "print(\"Hello. Please enter your name:\")\n",
    "name = sys.stdin.readline().strip()\n",
    "if name == \"Ana\" or \"Maria\" or “Itziar\":\n",
    "    print(\"Access granted.\")\n",
    "else:\n",
    "    print(\"Access denied.\")\n",
    "```"
   ]
  },
  {
   "cell_type": "markdown",
   "metadata": {},
   "source": [
    "## Solución\n",
    "\n",
    "La forma en que se me ha ocurrido hacer el problema es incluir los nombres del personal a una lista y hacer un ciclo IF como una puerta de entrada: si el nombre ingresado se encuentra en la lista, se abre la puerta, sino, no. "
   ]
  },
  {
   "cell_type": "code",
   "execution_count": null,
   "metadata": {},
   "outputs": [],
   "source": [
    "import sys\n",
    "#LISTA CON NOMBRES PERMITIDOS\n",
    "personal= ['Ana','Maria','Itziar']\n",
    "print(\"Hello. Please enter your name:\")\n",
    "name = sys.stdin.readline().strip()\n",
    "#SI EL NOMBRE SE ENCUENTRA EN LA LISTA, PERMITIR\n",
    "if name in personal:\n",
    "    print('Access granted.')\n",
    "#NO PERMITIR \n",
    "else:\n",
    "    print('Acces denied.')"
   ]
  },
  {
   "cell_type": "markdown",
   "metadata": {},
   "source": [
    "\n",
    "\n",
    "&nbsp;\n",
    "\n",
    "\n",
    "# Ejercicio 3"
   ]
  },
  {
   "cell_type": "markdown",
   "metadata": {},
   "source": [
    "Sea x un número entero.\n",
    "\n",
    "A) Describa un algoritmo a base de iteraciones para comprobar si x es un número primo.\n",
    "\n",
    "B) Escriba un programa en Python que solicite un input de un número entero, y que usa el\n",
    "algoritmo de arriba para comprobar si este número es un número primo.\n",
    "\n",
    "C) Escriba un programa para comprobar si un número es el cuadrado de un número primo.\n",
    "Osea, que la raíz del número ingresado sea un número primo.\n",
    "\n",
    "Nota: Pruebe al inicio si el número es un cuadrado de un número entero. Si eso es verdad,\n",
    "pruebe también si este número es primo."
   ]
  },
  {
   "cell_type": "markdown",
   "metadata": {},
   "source": [
    "## Solución apartado A) \n",
    "La funcion sqrt, se importa para ser usada más adelante. \n",
    "\n"
   ]
  },
  {
   "cell_type": "code",
   "execution_count": null,
   "metadata": {},
   "outputs": [],
   "source": [
    "from math import sqrt \n",
    "#APARTADO A)\n",
    "#-------------------------\n",
    "#DEFINIMOS FUNCION QUE ARROJA SI UN VALOR ES PRIMO O NO \n",
    "#INPUT = X\n",
    "#SI X ES PRIMO, RETORNA 1\n",
    "#SI NO, RETORNA 0\n",
    "def es_primo(x):\n",
    "#INICIO LOOP DESDE 2 HASTA X-1 \n",
    "    for i in range(2,x):\n",
    "#LA FUNCION -IF ANY(LISTA)- LA APRENDI EN SOLOLEARN (SECCION \"MAS TIPOS >> FUNCIONES \n",
    "#UTILES\")\n",
    "#PARA QUE UN NUMERO SEA PRIMO, ESTE DEBE SER DIVISIBLE SOLO POR 1 Y EL MISMO\n",
    "#POR LO TANTO, SI EXISTIERA ALGUN i (IF ANY) QUE EL CUOCIENTE ENTRE EL NUMERO E i \n",
    "#SEA IGUAL A 0, EL NUMERO NO ES PRIMO (Y LA FUNCION RETORNARA 0)\n",
    "        if any([x%i==0]):\n",
    "            return 0 \n",
    "    return 1"
   ]
  },
  {
   "cell_type": "markdown",
   "metadata": {},
   "source": [
    "## Solución apartado B) \n"
   ]
  },
  {
   "cell_type": "markdown",
   "metadata": {},
   "source": [
    "Esto va junto con el programa anterior (apartado A)"
   ]
  },
  {
   "cell_type": "code",
   "execution_count": null,
   "metadata": {},
   "outputs": [],
   "source": [
    "x = int(input('Ingresa un numero y dire si es primo o no = '))\n",
    "if x==1:\n",
    "    print('No es primo :( ')\n",
    "elif x>0:\n",
    "    if es_primo(x) == 1:\n",
    "        print('Es primo!')\n",
    "    else:\n",
    "        print('No es primo :( ')\n",
    "else: \n",
    "    print('Debe ser un numero entero y positivo!')"
   ]
  },
  {
   "cell_type": "markdown",
   "metadata": {},
   "source": [
    "## Solución apartado C) \n",
    "Esta parte del código va junto con el apartado B (no necesario) y A (necesario). Se importa la función sqrt del módulo math para poder realizar la operación raíz :) "
   ]
  },
  {
   "cell_type": "code",
   "execution_count": null,
   "metadata": {},
   "outputs": [],
   "source": [
    "y = int(input('Ingresa un numero y dire si es el cuadrado de un primo = '))\n",
    "#SI NUMERO INGRESADO ES MAYOR A 0, SE SACA LA RAIZ DEL NUMERO\n",
    "if y>0:\n",
    "    raiz=int(sqrt(y))\n",
    "#SINO, PEDIR QUE SEA POSITIVO\n",
    "else: \n",
    "    print('Debe ser positivo')\n",
    "#1 POR CONVENIO, NO ES CONSIDERADO PRIMO \n",
    "#LO LEI AQUI: https://es.wikipedia.org/wiki/N%C3%BAmero_primo\n",
    "if raiz==1:\n",
    "    print('No lo es :( ')\n",
    "#SI LA RAIZ ES DISTINTO DE 1\n",
    "else:\n",
    "#SI LA RAIZ ES PRIMO (VER APARTADO A)\n",
    "    if es_primo(raiz) == 1:\n",
    "        print 'Lo es! del primo ',raiz\n",
    "    else:\n",
    "        print('No lo es :( ')"
   ]
  },
  {
   "cell_type": "markdown",
   "metadata": {},
   "source": [
    "# Ejercicio 4: \n",
    "\n",
    "En el siguiente ejercicio, escribiremos programas que usan algoritmos diferentes para calcular la tercera raíz con una precisión de ≈ 0.01.\n",
    "\n",
    "    a) Escriba un programa que use un algoritmo a base de exhaustive enumeration para la\n",
    "    determinar la tercera raíz. ¿Cuántas iteraciones necesita para determinarla con la precisión\n",
    "    deseada para los números 25, 500 y 10000?\n",
    "\n",
    "    b) Escriba un programa que calcula la tercera raíz con el algoritmo de bisección. ¿Cuántas\n",
    "    iteraciones necesita para determinarla con la precisión deseada para los números 25, 500 y\n",
    "    10000?\n",
    "\n",
    "    c) Escriba un programa que calcula la tercera raíz con el método de Newton. ¿Cuantas\n",
    "    iteraciones necesita para determinarla con la precisión deseada para los números 25, 500 y\n",
    "    10000?"
   ]
  },
  {
   "cell_type": "markdown",
   "metadata": {},
   "source": [
    "## Solución apartado A) \n",
    "\n",
    "\n",
    "Link para ver lectures3-4.pdf --> [dropbox](https://www.dropbox.com/s/sbgviuit4x4bzjp/lecture3-4.pdf?dl=0)"
   ]
  },
  {
   "cell_type": "code",
   "execution_count": null,
   "metadata": {},
   "outputs": [],
   "source": [
    "#EXHAUSTIVE ENUMERATION\n",
    "#SE DEFINE FUNCION RAIZ CUBICA\n",
    "#DESCARADAMENTE COPIADO DEL MATERIAL ENVIADO POR PROFESORA\n",
    "#PUEDES ENCONTRAR EL ORIGINAL EN LECTURE3-4, PAG 68\n",
    "#LOS PASOS MATEMATICOS LOS EXPLICA LA PROFESORA MUCHO MEJOR QUE YO\n",
    "#SIN EMBARGO TRATARE DE DEJAR MIS COMENTARIOS CON LO QUE EL PROGRAMA HACE\n",
    "def raiz_cubica(x):\n",
    "#PRECISION\n",
    "    epsilon = 0.01 \n",
    "    step = epsilon**3\n",
    "    ans = 0.0\n",
    "#CONTADORA DE ITERACIONES\n",
    "    count=0\n",
    "\n",
    "    while abs(ans**3 - x) >= epsilon and ans <=x:\n",
    "#AGREGAR ITERACION HASTA QUE SE ROMPA EL CICLO\n",
    "        count+=1\n",
    "        ans += step\n",
    "    if abs(ans**3 - x) >= epsilon:\n",
    "        print 'No hemos encontrado la raiz de ',x\n",
    "\n",
    "    print '* La raiz de', x, 'es aproximadamente', ans\n",
    "    print '* Ocurrieron',count,'iteraciones \\n'\n",
    "\n",
    "raiz_cubica(25)\n",
    "raiz_cubica(500)\n",
    "raiz_cubica(10000)\n"
   ]
  },
  {
   "cell_type": "markdown",
   "metadata": {},
   "source": [
    "El programa arroja este resultado: \n",
    "\n",
    "    * La raiz de 25 es aproximadamente 2.92362800005. \n",
    "    * Ocurrieron 2923628 iteraciones \n",
    "    \n",
    "    * La raiz de 500 es aproximadamente 7.93695300076\n",
    "    * Ocurrieron 7936953 iteraciones \n",
    "\n",
    "    * La raiz de 10000 es aproximadamente 21.5443400005\n",
    "    * Ocurrieron 21544340 iteraciones "
   ]
  },
  {
   "cell_type": "markdown",
   "metadata": {},
   "source": [
    "## Solución apartado B) \n",
    "\n",
    "\n",
    "De [aquí](https://www.pybonacci.org/2012/04/18/ecuaciones-no-lineales-metodo-de-biseccion-y-metodo-de-newton-en-python/) pude entender mas o menos el algoritmo planteado por la profesora. Me parece bastante interesante este método de programación. \n",
    "\n",
    "\n"
   ]
  },
  {
   "cell_type": "code",
   "execution_count": null,
   "metadata": {},
   "outputs": [],
   "source": [
    "#BISECCION\n",
    "#DESCARADAMENTE COPIADO DEL MATERIAL ENVIADO POR PROFESORA\n",
    "#PUEDES ENCONTRAR EL ORIGINAL EN LECTURE3-4, PAG 81\n",
    "#SE DEFINE FUNCION RAIZ CUBICA\n",
    "def raiz_cubica(x):\n",
    "#PRECISION\n",
    "    epsilon = 0.01\n",
    "#MINIMO Y MAXIMO DEL INTERVALO\n",
    "    low,high = 0.0, max(1.0,x)\n",
    "#RESPUESTA\n",
    "    ans = (high + low)/2.0 \n",
    "#CONTADORA DE ITERACIONES\n",
    "    count = 0\n",
    "\n",
    "    while abs(ans**3 - x) >= epsilon:\n",
    "        #print 'low =',low, 'high =',high, 'ans = ',ans\n",
    "        count +=1\n",
    "#SI EL CUADRADO DE LA POSIBLE RESPUESTA ES MENOR QUE X \n",
    "#ENTONCES DEBE ESTAR A LA IZQUIERDA\n",
    "        if ans**3 < x:\n",
    "            low = ans\n",
    "#SI ES MAYOR, DEBE ESTAR A LA DERECHA\n",
    "        else:\n",
    "            high = ans\n",
    "\n",
    "        ans = (high + low)/2.0\n",
    "    print '* La raiz de', x, 'es aproximadamente', ans\n",
    "    print '* Ocurrieron',count,'iteraciones \\n'\n",
    "raiz_cubica(25)\n",
    "raiz_cubica(500)\n",
    "raiz_cubica(10000)"
   ]
  },
  {
   "cell_type": "markdown",
   "metadata": {},
   "source": [
    "El programa arroja este resultado: \n",
    "\n",
    "    * La raiz de 25 es aproximadamente 2.92434692383\n",
    "    * Ocurrieron 14 iteraciones\n",
    "    \n",
    "    * La raiz de 500 es aproximadamente 7.93695449829\n",
    "    * Ocurrieron 19 iteraciones \n",
    "    \n",
    "    * La raiz de 10000 es aproximadamente 21.5443409979\n",
    "    * Ocurrieron 28 iteraciones \n"
   ]
  },
  {
   "cell_type": "markdown",
   "metadata": {},
   "source": [
    "## Solución apartado C) \n"
   ]
  },
  {
   "cell_type": "code",
   "execution_count": null,
   "metadata": {},
   "outputs": [],
   "source": [
    "#NEWTON\n",
    "#DESCARADAMENTE COPIADO DEL MATERIAL ENVIADO POR PROFESORA\n",
    "#PUEDES ENCONTRAR EL ORIGINAL EN LECTURE3-4, PAG 89\n",
    "#SE DEFINE FUNCION RAIZ CUBICA\n",
    "def raiz_cubica(x):\n",
    "#PRECISION\n",
    "    epsilon = 0.01\n",
    "#RESPUEST\n",
    "    guess = x/2.0\n",
    "#CONTADORA DE ITERACIONES\n",
    "    count=0\n",
    "    while abs(guess**3 - x) >= epsilon:\n",
    "        count+= 1\n",
    "#METODO DE NEWTON \n",
    "        guess = guess - (((guess**3) - x) / (3*(guess**2)))\n",
    "    #print('* Ocurrieron '+str(count)+ ' iteraciones \\n')\n",
    "    print '* La raiz de', x, 'es aproximadamente', guess\n",
    "    print '* Ocurrieron',count,'iteraciones \\n'\n",
    "raiz_cubica(25)\n",
    "raiz_cubica(500)\n",
    "raiz_cubica(10000)"
   ]
  },
  {
   "cell_type": "markdown",
   "metadata": {},
   "source": [
    "El programa arroja este resultado: \n",
    "\n",
    "    * La raiz de 25 es aproximadamente 2.9242328368\n",
    "    * Ocurrieron 6 iteraciones \n",
    "\n",
    "    * La raiz de 500 es aproximadamente 7.93700527704\n",
    "    * Ocurrieron 12 iteraciones \n",
    "\n",
    "    * La raiz de 10000 es aproximadamente 21.5443469166\n",
    "    * Ocurrieron 17 iteraciones "
   ]
  },
  {
   "cell_type": "markdown",
   "metadata": {},
   "source": [
    "# Ejercicio 5"
   ]
  },
  {
   "cell_type": "markdown",
   "metadata": {},
   "source": [
    "Ejercicio 5: Usted tiene las siguientes ecuaciones:\n",
    "\n",
    "a) $x^2 = 4x$\n",
    "\n",
    "b) $e^x = 4x$\n",
    "\n",
    "c) $10x = x^2$\n",
    "\n",
    "Para cada ecuación, defina una función $f(x)$ de forma que el cero de la función f sea la solución de la ecuación. Después, calcule también $df/dx$ y use el método de Newton para determinar la\n",
    "solución. **(No nos interesa la solución trivial x = 0 en caso de a) y c). Si resulta zero, cambie el\n",
    "supuesto inicial.)** "
   ]
  },
  {
   "cell_type": "markdown",
   "metadata": {},
   "source": [
    "## Solución apartado A) \n"
   ]
  },
  {
   "cell_type": "markdown",
   "metadata": {},
   "source": [
    "\n",
    "\n",
    "Ésta solución y las que siguen, han sido basadas tras leer la entrada de *Shah* en [este link](https://pythonfornumericalmethods.wordpress.com/2015/10/17/metodo-de-newton/)"
   ]
  },
  {
   "cell_type": "code",
   "execution_count": null,
   "metadata": {},
   "outputs": [],
   "source": [
    "#definimos funciones\n",
    "\n",
    "# f1(x)---> x^2 - 4x \n",
    "# f1'(x)---> 2x - 4\n",
    "def f1(x):\n",
    "    return x**2 - 4*x\n",
    "\n",
    "def df1(x):\n",
    "    return 2*x-4\n",
    "\n",
    "#supuesto inicial (con 2.0 retorna ZeroDivisionError)\n",
    "xnew = [3.0]\n",
    "#error tolerado al aproximar \n",
    "erro = 0.001 \n",
    "#raiz de la funcion\n",
    "resp = xnew[-1]\n",
    "print '-------- Metodo de Newton --------'\n",
    "print 'Funcion = x^2 - 4x'\n",
    "#try/except por si ocurre division por 0\n",
    "try:\n",
    "    while True:\n",
    "        print 'Mejor aproximacion = ',resp\n",
    "#metodo de newton-raphson\n",
    "        resp = resp - (f1(resp)/df1(resp))\n",
    "#agregar esta resp a xnew\n",
    "        xnew.append(resp)\n",
    "#alcanzar el error exigido\n",
    "        if abs(xnew[-2]-xnew[-1]) <= erro:\n",
    "            break\n",
    "except (ZeroDivisionError):\n",
    "    print 'Ha ocurrido una division por 0. No se puede continuar'\n",
    "print '***La aproximacion final es',resp "
   ]
  },
  {
   "cell_type": "markdown",
   "metadata": {},
   "source": [
    "El programa arroja: \n",
    "\n",
    "    -------- Metodo de Newton --------\n",
    "    Funcion = x^2 - 4x \n",
    "    Mejor aproximacion =  3.0\n",
    "    Mejor aproximacion =  4.5\n",
    "    Mejor aproximacion =  4.05\n",
    "    Mejor aproximacion =  4.0006097561\n",
    "    ***La aproximacion final es 4.00000009292 "
   ]
  },
  {
   "cell_type": "markdown",
   "metadata": {},
   "source": [
    "## Solución apartado B) \n"
   ]
  },
  {
   "cell_type": "code",
   "execution_count": null,
   "metadata": {},
   "outputs": [],
   "source": [
    "#para la funcion exponencial\n",
    "from math import exp\n",
    "# definimos funciones\n",
    "# f2(x) ---> e^x - 4x \n",
    "# df2(x) ---> e^x - 4\n",
    "def f2(x):\n",
    "    return exp(x) - 4*x\n",
    "def df2(x):\n",
    "    return exp(x) - 4 \n",
    "\n",
    "#supuesto inicial\n",
    "xnew = [3.0]\n",
    "#error tolerado al aproximar \n",
    "erro = 0.001 \n",
    "#raiz de la funcion\n",
    "resp = xnew[-1]\n",
    "print '-------- Metodo de Newton --------'\n",
    "print 'Funcion = e^x - 4x'\n",
    "#try/except por si ocurre division por 0\n",
    "try:\n",
    "    while True:\n",
    "        print 'Mejor aproximacion = ',resp\n",
    "#metodo de newton-raphson\n",
    "        resp = resp - (f2(resp)/df2(resp))\n",
    "#agregar esta resp a xnew\n",
    "        xnew.append(resp)\n",
    "#alvanzar el error exigido\n",
    "        if abs(xnew[-2]-xnew[-1]) <= erro:\n",
    "            break\n",
    "except (ZeroDivisionError):\n",
    "    print 'Ha ocurrido una division por 0. No se puede continuar'\n",
    "print '***La aproximacion final es',resp "
   ]
  },
  {
   "cell_type": "markdown",
   "metadata": {},
   "source": [
    "El programa arroja: \n",
    "\n",
    "    -------- Metodo de Newton --------\n",
    "    Funcion = e^x - 4x\n",
    "    Mejor aproximacion =  3.0\n",
    "    Mejor aproximacion =  2.49734118533\n",
    "    Mejor aproximacion =  2.23221940087\n",
    "    Mejor aproximacion =  2.15860801401\n",
    "    Mejor aproximacion =  2.15331857522\n",
    "    ***La aproximacion final es 2.15329236475\n"
   ]
  },
  {
   "cell_type": "markdown",
   "metadata": {},
   "source": [
    "## Solución apartado C) \n"
   ]
  },
  {
   "cell_type": "code",
   "execution_count": null,
   "metadata": {},
   "outputs": [],
   "source": [
    "#definimos funciones\n",
    "\n",
    "#f3(x)--->10x - x^2\n",
    "#df3(x)--->10 - 2x \n",
    "def f3(x):\n",
    "    return 10*x - x**2 \n",
    "def df3(x):\n",
    "    return 10 - 2*x \n",
    "\n",
    "#supuesto inicial\n",
    "xnew = [7.0]\n",
    "#error tolerado al aproximar \n",
    "erro = 0.001 \n",
    "#raiz de la funcion\n",
    "resp = xnew[-1]\n",
    "print '-------- Metodo de Newton --------'\n",
    "print 'Funcion = 10 - x^2'\n",
    "#try/except por si ocurre division por 0\n",
    "try:\n",
    "    while True:\n",
    "        print 'Mejor aproximacion = ',resp\n",
    "#metodo de newton-raphson\n",
    "        resp = resp - (f3(resp)/df3(resp))\n",
    "#agregar esta resp a xnew\n",
    "        xnew.append(resp)\n",
    "#alcanzar el error exigido\n",
    "        if abs(xnew[-2]-xnew[-1]) <= erro:\n",
    "            break\n",
    "except (ZeroDivisionError):\n",
    "    print 'Ha ocurrido una division por 0. No se puede continuar'\n",
    "print '***La aproximacion final es',resp \n"
   ]
  },
  {
   "cell_type": "markdown",
   "metadata": {},
   "source": [
    "El programa arroja: \n",
    "\n",
    "    -------- Metodo de Newton --------\n",
    "    Funcion = 10 - x^2\n",
    "    Mejor aproximacion =  7.0\n",
    "    Mejor aproximacion =  12.25\n",
    "    Mejor aproximacion =  10.349137931\n",
    "    Mejor aproximacion =  10.0113941065\n",
    "    Mejor aproximacion =  10.000012953\n",
    "    ***La aproximacion final es 10.0\n"
   ]
  },
  {
   "cell_type": "code",
   "execution_count": null,
   "metadata": {},
   "outputs": [],
   "source": []
  }
 ],
 "metadata": {
  "kernelspec": {
   "display_name": "Python 2",
   "language": "python",
   "name": "python2"
  },
  "language_info": {
   "codemirror_mode": {
    "name": "ipython",
    "version": 2
   },
   "file_extension": ".py",
   "mimetype": "text/x-python",
   "name": "python",
   "nbconvert_exporter": "python",
   "pygments_lexer": "ipython2",
   "version": "2.7.15"
  }
 },
 "nbformat": 4,
 "nbformat_minor": 2
}
